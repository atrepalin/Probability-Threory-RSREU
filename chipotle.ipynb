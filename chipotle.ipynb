{
 "cells": [
  {
   "cell_type": "code",
   "execution_count": null,
   "id": "08101939",
   "metadata": {},
   "outputs": [
    {
     "name": "stdout",
     "output_type": "stream",
     "text": [
      "Частоты: {'A (пешком)': 0, 'B (самокат)': 6, 'C (троллейбус)': 9994}\n",
      "Вероятности: {'A (пешком)': 0.0, 'B (самокат)': 0.0006, 'C (троллейбус)': 0.9994}\n"
     ]
    }
   ],
   "source": [
    "import pandas as pd\n",
    "import math\n",
    "import random\n",
    "import geopandas as gpd\n",
    "from shapely.geometry import Point, Polygon\n",
    "\n",
    "\n",
    "def haversine(lat1: float, lon1: float, lat2: float, lon2: float) -> float:\n",
    "    R = 6371000\n",
    "    phi1, phi2 = math.radians(lat1), math.radians(lat2)\n",
    "    dphi = math.radians(lat2 - lat1)\n",
    "    dlambda = math.radians(lon2 - lon1)\n",
    "\n",
    "    a = (\n",
    "        math.sin(dphi / 2) ** 2\n",
    "        + math.cos(phi1) * math.cos(phi2) * math.sin(dlambda / 2) ** 2\n",
    "    )\n",
    "    return 2 * R * math.atan2(math.sqrt(a), math.sqrt(1 - a))\n",
    "\n",
    "\n",
    "# --- Загрузка данных ---\n",
    "df = pd.read_csv(\"dataset/chipotle_stores.csv\")\n",
    "states = gpd.read_file(\"dataset/us-states.json\")\n",
    "\n",
    "# --- Фильтрация данных ---\n",
    "ny_polygon = states[states[\"id\"] == \"NY\"].geometry.values[0]\n",
    "nyc_df = df[df[\"location\"].str.contains(\"New York\", case=False, na=False)]\n",
    "\n",
    "\n",
    "# --- Функция для генерации случайной точки в пределах Нью-Йорка ---\n",
    "def random_point_in_polygon(polygon: Polygon) -> Point:\n",
    "    minx, miny, maxx, maxy = polygon.bounds\n",
    "    while True:\n",
    "        p = Point(random.uniform(minx, maxx), random.uniform(miny, maxy))\n",
    "        if polygon.contains(p):\n",
    "            return p\n",
    "\n",
    "\n",
    "# --- Функция для симуляции ---\n",
    "def simulate(n_points=1000):\n",
    "    counts = {\"A (пешком)\": 0, \"B (самокат)\": 0, \"C (троллейбус)\": 0}\n",
    "\n",
    "    for _ in range(n_points):\n",
    "        point = random_point_in_polygon(ny_polygon)\n",
    "        lat_rand, lon_rand = point.y, point.x\n",
    "\n",
    "        # расстояние до ближайшего Chipotle\n",
    "        distances = nyc_df.apply(\n",
    "            lambda row: haversine(\n",
    "                lat_rand, lon_rand, row[\"latitude\"], row[\"longitude\"]\n",
    "            ),\n",
    "            axis=1,\n",
    "        )\n",
    "        min_dist = distances.min()\n",
    "\n",
    "        # выбор транспорта\n",
    "        if min_dist <= 100:\n",
    "            counts[\"A (пешком)\"] += 1\n",
    "        elif min_dist < 1000:\n",
    "            counts[\"B (самокат)\"] += 1\n",
    "        else:\n",
    "            counts[\"C (троллейбус)\"] += 1\n",
    "\n",
    "    # вероятность\n",
    "    probs = {k: v / n_points for k, v in counts.items()}\n",
    "    return counts, probs\n",
    "\n",
    "\n",
    "counts, probs = simulate(10000)\n",
    "\n",
    "print(\"Частоты:\", counts)\n",
    "print(\"Вероятности:\", probs)"
   ]
  }
 ],
 "metadata": {
  "kernelspec": {
   "display_name": "venv",
   "language": "python",
   "name": "python3"
  },
  "language_info": {
   "codemirror_mode": {
    "name": "ipython",
    "version": 3
   },
   "file_extension": ".py",
   "mimetype": "text/x-python",
   "name": "python",
   "nbconvert_exporter": "python",
   "pygments_lexer": "ipython3",
   "version": "3.11.1"
  }
 },
 "nbformat": 4,
 "nbformat_minor": 5
}
