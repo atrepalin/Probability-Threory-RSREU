{
 "cells": [
  {
   "cell_type": "markdown",
   "id": "310360d8",
   "metadata": {},
   "source": [
    "![alt text](images/image37.png)"
   ]
  },
  {
   "cell_type": "markdown",
   "id": "4b1c2737",
   "metadata": {},
   "source": [
    "а) Рассмотрим событие A - на карточке получилось слово событие\n",
    "\n",
    "$P(A) = \\frac{n}{m} = \\frac{n}{P_7} = \\frac{1}{7!}$"
   ]
  },
  {
   "cell_type": "code",
   "execution_count": 1,
   "id": "97249d36",
   "metadata": {},
   "outputs": [
    {
     "data": {
      "text/plain": [
       "np.float64(0.0002)"
      ]
     },
     "execution_count": 1,
     "metadata": {},
     "output_type": "execute_result"
    }
   ],
   "source": [
    "import scipy.special as sc\n",
    "\n",
    "round(1 / sc.factorial(7), 4)"
   ]
  },
  {
   "cell_type": "markdown",
   "id": "ac606258",
   "metadata": {},
   "source": [
    "б) Рассмотрим событие B - получилось слово статистика\n",
    "\n",
    "$P(B) = \\frac{n}{m} = \\frac{1}{P_{10} (2,3,2,2,1)} = \\frac{2! \\cdot 3! \\cdot 2! \\cdot 2!}{10!}$"
   ]
  },
  {
   "cell_type": "code",
   "execution_count": 3,
   "id": "7674d1cc",
   "metadata": {},
   "outputs": [
    {
     "data": {
      "text/plain": [
       "np.float64(1.323e-05)"
      ]
     },
     "execution_count": 3,
     "metadata": {},
     "output_type": "execute_result"
    }
   ],
   "source": [
    "round(\n",
    "    sc.factorial(2)\n",
    "    * sc.factorial(3)\n",
    "    * sc.factorial(2)\n",
    "    * sc.factorial(2)\n",
    "    / sc.factorial(10),\n",
    "    8,\n",
    ")"
   ]
  },
  {
   "cell_type": "markdown",
   "id": "b5e22a39",
   "metadata": {},
   "source": [
    "![alt text](images/image39.png)"
   ]
  },
  {
   "cell_type": "markdown",
   "id": "7e69d1b0",
   "metadata": {},
   "source": [
    "а) Рассмотрим событие A - среди обладателей окажутся 4 девушки\n",
    "\n",
    "$P(A) = \\frac{C_{15}^4}{C_{25}^4}$"
   ]
  },
  {
   "cell_type": "code",
   "execution_count": 5,
   "id": "325996d2",
   "metadata": {},
   "outputs": [
    {
     "data": {
      "text/plain": [
       "np.float64(0.1079)"
      ]
     },
     "execution_count": 5,
     "metadata": {},
     "output_type": "execute_result"
    }
   ],
   "source": [
    "round(sc.comb(15, 4) / sc.comb(25, 4), 4)"
   ]
  },
  {
   "cell_type": "markdown",
   "id": "59848fac",
   "metadata": {},
   "source": [
    "б) Рассмотрим событие B - среди обладателей окажутся 4 юноши\n",
    "\n",
    "$P(B) = \\frac{C_{10}^4}{C_{25}^4}$"
   ]
  },
  {
   "cell_type": "code",
   "execution_count": 6,
   "id": "d34a1f6b",
   "metadata": {},
   "outputs": [
    {
     "data": {
      "text/plain": [
       "np.float64(0.0166)"
      ]
     },
     "execution_count": 6,
     "metadata": {},
     "output_type": "execute_result"
    }
   ],
   "source": [
    "round(sc.comb(10, 4) / sc.comb(25, 4), 4)"
   ]
  },
  {
   "cell_type": "markdown",
   "id": "1767b62f",
   "metadata": {},
   "source": [
    "в) Рассмотрим событие D - среди обладателей окажутся 3 юноши и одна девушка\n",
    "\n",
    "$P(D) = \\frac{C_{10}^3 \\cdot 15}{C_{25}^4}$"
   ]
  },
  {
   "cell_type": "code",
   "execution_count": 7,
   "id": "00bddfab",
   "metadata": {},
   "outputs": [
    {
     "data": {
      "text/plain": [
       "np.float64(0.1423)"
      ]
     },
     "execution_count": 7,
     "metadata": {},
     "output_type": "execute_result"
    }
   ],
   "source": [
    "round(sc.comb(10, 3) * 15 / sc.comb(25, 4), 4)"
   ]
  },
  {
   "cell_type": "markdown",
   "id": "ee7b7552",
   "metadata": {},
   "source": [
    "![alt text](images/image42.png)"
   ]
  },
  {
   "cell_type": "markdown",
   "id": "508e64ba",
   "metadata": {},
   "source": [
    "Рассмотрим событие A - среди 5 проданных телевизоров окажется не менее 3 импортных\n",
    "\n",
    "$P(A) = \\sum_{i = 3}^5 P(A_i) = \\frac{C_{20}^3 \\cdot C_{10}^2 + C_{20}^4 \\cdot 10 + C_{20}^5}{C_{30}^5}$"
   ]
  },
  {
   "cell_type": "code",
   "execution_count": 9,
   "id": "17970bed",
   "metadata": {},
   "outputs": [
    {
     "data": {
      "text/plain": [
       "np.float64(0.8088)"
      ]
     },
     "execution_count": 9,
     "metadata": {},
     "output_type": "execute_result"
    }
   ],
   "source": [
    "round(\n",
    "    (sc.comb(20, 3) * sc.comb(10, 2) + sc.comb(20, 4) * 10 + sc.comb(20, 5))\n",
    "    / sc.comb(30, 5),\n",
    "    4,\n",
    ")"
   ]
  },
  {
   "cell_type": "markdown",
   "id": "f1a4690e",
   "metadata": {},
   "source": [
    "![alt text](images/image45.png)"
   ]
  },
  {
   "cell_type": "markdown",
   "id": "43f8c7fb",
   "metadata": {},
   "source": [
    "а) Рассмотрим событие A - студент сдал зачёт\n",
    "\n",
    "$P(A) = \\frac{C_{19}^2 \\cdot 5 + C_{19}^3}{C_{24}^3}$"
   ]
  },
  {
   "cell_type": "code",
   "execution_count": 10,
   "id": "a4dfc7f8",
   "metadata": {},
   "outputs": [
    {
     "data": {
      "text/plain": [
       "np.float64(0.9012)"
      ]
     },
     "execution_count": 10,
     "metadata": {},
     "output_type": "execute_result"
    }
   ],
   "source": [
    "round((sc.comb(19, 2) * 5 + sc.comb(19, 3)) / sc.comb(24, 3), 4)"
   ]
  },
  {
   "cell_type": "markdown",
   "id": "bd9fe320",
   "metadata": {},
   "source": [
    "б) Рассмотрим событие B - студент не сдал зачёт\n",
    "\n",
    "$P(B) = 1 - P(A)$"
   ]
  },
  {
   "cell_type": "markdown",
   "id": "352c9862",
   "metadata": {},
   "source": [
    "![alt text](images/image38.png)"
   ]
  },
  {
   "cell_type": "markdown",
   "id": "3a4aadaa",
   "metadata": {},
   "source": [
    "$P(A) = \\frac{1}{P_5} = \\frac{1}{5!}$"
   ]
  },
  {
   "cell_type": "code",
   "execution_count": 2,
   "id": "3c0f9ecc",
   "metadata": {},
   "outputs": [
    {
     "data": {
      "text/plain": [
       "np.float64(0.0083)"
      ]
     },
     "execution_count": 2,
     "metadata": {},
     "output_type": "execute_result"
    }
   ],
   "source": [
    "round(1 / sc.factorial(5), 4)"
   ]
  },
  {
   "cell_type": "markdown",
   "id": "e17bda8a",
   "metadata": {},
   "source": [
    "![alt text](images/image40.png)"
   ]
  },
  {
   "cell_type": "markdown",
   "id": "64cef4a5",
   "metadata": {},
   "source": [
    "а) $P(A) = \\frac{C_{10}^3 \\cdot C_{10}^2}{C_{20}^5}$\n",
    "\n",
    "б) Проще рассмотреть обратное - все за городом $P(B) = 1 - \\frac{C_{10}^5}{C_{20}^5}$"
   ]
  },
  {
   "cell_type": "code",
   "execution_count": 4,
   "id": "bc1a271e",
   "metadata": {},
   "outputs": [
    {
     "name": "stdout",
     "output_type": "stream",
     "text": [
      "0.3483\n",
      "0.9837\n"
     ]
    }
   ],
   "source": [
    "print(round(sc.comb(10, 3) * sc.comb(10, 2) / sc.comb(20, 5), 4))\n",
    "\n",
    "print(round(1 - sc.comb(10, 5) / sc.comb(20, 5), 4))"
   ]
  },
  {
   "cell_type": "markdown",
   "id": "b0e323eb",
   "metadata": {},
   "source": [
    "![alt text](images/image43.png)"
   ]
  },
  {
   "cell_type": "markdown",
   "id": "b98552df",
   "metadata": {},
   "source": [
    "Всего номеров из 5 цифр - 90000\n",
    "\n",
    "а) $P(A) = \\frac{9 \\cdot 9 \\cdot 8 \\cdot 7 \\cdot 6}{90000}$\n",
    "\n",
    "Ответ из книги $\\left( \\frac{1}{0.9 \\cdot A_{10}^5} \\right)$ неверен, см ниже"
   ]
  },
  {
   "cell_type": "code",
   "execution_count": 12,
   "id": "45c74e00",
   "metadata": {},
   "outputs": [
    {
     "name": "stdout",
     "output_type": "stream",
     "text": [
      "Аналитически полученное значение: 0.3024\n",
      "Значение, полученное перебором: 0.3024\n"
     ]
    }
   ],
   "source": [
    "print(\"Аналитически полученное значение:\", round(9 * 9 * 8 * 7 * 6 / 90000, 4))\n",
    "\n",
    "total = 0\n",
    "distinct = 0\n",
    "\n",
    "for num in range(10000, 100000):\n",
    "    total += 1\n",
    "    s = str(num)\n",
    "    if len(set(s)) == 5:\n",
    "        distinct += 1\n",
    "\n",
    "prob = distinct / total\n",
    "print(\"Значение, полученное перебором:\", prob)"
   ]
  },
  {
   "cell_type": "markdown",
   "id": "2f7ef54d",
   "metadata": {},
   "source": [
    "б) $P(B) = \\frac{9}{90000} = 0.0001$"
   ]
  },
  {
   "cell_type": "markdown",
   "id": "4c3584f1",
   "metadata": {},
   "source": [
    "в) $P(D) = \\frac{5^5}{90000}$"
   ]
  },
  {
   "cell_type": "code",
   "execution_count": 13,
   "id": "88176669",
   "metadata": {},
   "outputs": [
    {
     "data": {
      "text/plain": [
       "0.0347"
      ]
     },
     "execution_count": 13,
     "metadata": {},
     "output_type": "execute_result"
    }
   ],
   "source": [
    "round(5 ** 5 / 90000, 4)"
   ]
  },
  {
   "cell_type": "markdown",
   "id": "dc195c34",
   "metadata": {},
   "source": [
    "![alt text](images/image44.png)"
   ]
  },
  {
   "cell_type": "markdown",
   "id": "e6189435",
   "metadata": {},
   "source": [
    "а) $P(A) = \\frac{2 \\cdot C_{14}^7}{C_{16}^8}$\n",
    "\n",
    "Первая сильная команда может попасть в одну из двух групп, а вторая автоматом попадает в другую\n",
    "\n",
    "Все остальные 14 команд надо разделить на две группы по 7 команд\n",
    "\n",
    "Всего возможных команд $C_{16}^8$"
   ]
  },
  {
   "cell_type": "code",
   "execution_count": 15,
   "id": "05ea1f69",
   "metadata": {},
   "outputs": [
    {
     "data": {
      "text/plain": [
       "np.float64(0.5333)"
      ]
     },
     "execution_count": 15,
     "metadata": {},
     "output_type": "execute_result"
    }
   ],
   "source": [
    "round(2 * sc.comb(14, 7) / sc.comb(16, 8), 4)"
   ]
  },
  {
   "cell_type": "markdown",
   "id": "a2f70839",
   "metadata": {},
   "source": [
    "б) $P(B) = 1 - P(A) \\approx 0.4667$"
   ]
  },
  {
   "cell_type": "markdown",
   "id": "8444928a",
   "metadata": {},
   "source": [
    "![alt text](images/image46.png)"
   ]
  },
  {
   "cell_type": "markdown",
   "id": "9df7684b",
   "metadata": {},
   "source": [
    "$P(A) = \\frac{C_4^3 \\cdot 2}{C_{10}^6}$"
   ]
  },
  {
   "cell_type": "code",
   "execution_count": 21,
   "id": "8a239da9",
   "metadata": {},
   "outputs": [
    {
     "data": {
      "text/plain": [
       "np.float64(0.0381)"
      ]
     },
     "execution_count": 21,
     "metadata": {},
     "output_type": "execute_result"
    }
   ],
   "source": [
    "round(sc.comb(4, 3) * 2 / sc.comb(10, 6), 4)"
   ]
  },
  {
   "cell_type": "markdown",
   "id": "95d92e58",
   "metadata": {},
   "source": [
    "![alt text](images/image48.png)"
   ]
  },
  {
   "cell_type": "code",
   "execution_count": 22,
   "id": "8fa3dd87",
   "metadata": {},
   "outputs": [
    {
     "name": "stdout",
     "output_type": "stream",
     "text": [
      "0.125\n",
      "0.5\n"
     ]
    }
   ],
   "source": [
    "Pa = 0\n",
    "Pb = 0\n",
    "\n",
    "for x1 in range(1, 7):\n",
    "    for x2 in range(1, 7):\n",
    "        for x3 in range (1, 7):\n",
    "            if x1 + x2 + x3 == 11:\n",
    "                Pa += 1\n",
    "\n",
    "            if x1 + x2 + x3 > 10:\n",
    "                Pb += 1\n",
    "\n",
    "print(Pa / 216)\n",
    "print(Pb / 216)"
   ]
  },
  {
   "cell_type": "markdown",
   "id": "7f6cc644",
   "metadata": {},
   "source": [
    "![alt text](images/image50.png)"
   ]
  },
  {
   "cell_type": "code",
   "execution_count": 31,
   "id": "36fee90a",
   "metadata": {},
   "outputs": [
    {
     "data": {
      "image/png": "[encoded data removed]",
      "text/plain": [
       "<Figure size 600x600 with 1 Axes>"
      ]
     },
     "metadata": {},
     "output_type": "display_data"
    }
   ],
   "source": [
    "import matplotlib.pyplot as plt\n",
    "import numpy as np\n",
    "\n",
    "T = 60.0\n",
    "wait = 15.0\n",
    "\n",
    "x = np.linspace(0, T, 400)\n",
    "y1 = x + wait\n",
    "y2 = x - wait\n",
    "\n",
    "fig, ax = plt.subplots(figsize=(6,6))\n",
    "ax.set_xlim(0, T)\n",
    "ax.set_ylim(0, T)\n",
    "ax.set_xlabel(\"Время прихода первого (минуты после 18:00)\")\n",
    "ax.set_ylabel(\"Время прихода второго (минуты после 18:00)\")\n",
    "ax.set_title(\"Область встречи: |x - y| ≤ 15 (минут)\")\n",
    "\n",
    "poly_x = []\n",
    "poly_y = []\n",
    "\n",
    "xs = np.linspace(0, wait, 80)\n",
    "poly_x.extend(xs.tolist())\n",
    "poly_y.extend((xs + wait).tolist()) \n",
    "\n",
    "xs = np.linspace(wait, T - wait, 160)\n",
    "poly_x.extend(xs.tolist())\n",
    "poly_y.extend((xs + wait).tolist())\n",
    "\n",
    "xs = np.linspace(T - wait, T, 80)\n",
    "poly_x.extend(xs.tolist())\n",
    "poly_y.extend((xs + wait).tolist())\n",
    "\n",
    "poly_x_lower = poly_x[::-1]\n",
    "poly_y_lower = []\n",
    "for xi in poly_x_lower:\n",
    "    yi = xi - wait\n",
    "    if yi < 0:\n",
    "        yi = 0.0\n",
    "    if yi > T:\n",
    "        yi = T\n",
    "    poly_y_lower.append(yi)\n",
    "\n",
    "band_x = np.array(poly_x + poly_x_lower)\n",
    "band_y = np.array(poly_y + poly_y_lower)\n",
    "\n",
    "ax.fill(band_x, band_y, alpha=0.3) \n",
    "\n",
    "ax.plot(x, np.clip(x + wait, 0, T), linestyle='-', linewidth=1.0)\n",
    "ax.plot(x, np.clip(x - wait, 0, T), linestyle='-', linewidth=1.0)\n",
    "\n",
    "ax.plot([0, T], [0, T], linestyle='--', linewidth=0.8)\n",
    "\n",
    "plt.show()"
   ]
  },
  {
   "cell_type": "markdown",
   "id": "7acb3d0c",
   "metadata": {},
   "source": [
    "$P(A) = \\frac{\\text{Площадь полосы}}{\\text{Площадь квадрата}} = \\frac{60^2 - 2 \\cdot \\frac{1}{2} \\cdot 45^2}{60^2}$"
   ]
  },
  {
   "cell_type": "code",
   "execution_count": 25,
   "id": "3ac55a74",
   "metadata": {},
   "outputs": [
    {
     "data": {
      "text/plain": [
       "0.4375"
      ]
     },
     "execution_count": 25,
     "metadata": {},
     "output_type": "execute_result"
    }
   ],
   "source": [
    "round((60 ** 2 - 45 ** 2) / 60 ** 2, 4)"
   ]
  },
  {
   "cell_type": "markdown",
   "id": "9031d323",
   "metadata": {},
   "source": [
    "![alt text](images/image51.png)"
   ]
  },
  {
   "cell_type": "code",
   "execution_count": 35,
   "id": "5903dfff",
   "metadata": {},
   "outputs": [
    {
     "data": {
      "image/png": "[encoded data removed]",
      "text/plain": [
       "<Figure size 600x600 with 1 Axes>"
      ]
     },
     "metadata": {},
     "output_type": "display_data"
    }
   ],
   "source": [
    "import matplotlib.pyplot as plt\n",
    "import numpy as np\n",
    "\n",
    "R = 1\n",
    "\n",
    "fig, ax = plt.subplots(figsize=(6,6))\n",
    "\n",
    "circle = plt.Circle((0, 0), R, fill=False, color='blue', linewidth=2)\n",
    "ax.add_artist(circle)\n",
    "\n",
    "side = np.sqrt(2) * R\n",
    "half_side = side / 2\n",
    "\n",
    "square = plt.Polygon([[-half_side, -half_side],\n",
    "                      [-half_side, half_side],\n",
    "                      [half_side, half_side],\n",
    "                      [half_side, -half_side]],\n",
    "                     fill=True, color='red', linewidth=2)\n",
    "ax.add_patch(square)\n",
    "\n",
    "ax.set_xlim(-1.1 * R, 1.1 * R)\n",
    "ax.set_ylim(-1.1 * R, 1.1 * R)\n",
    "ax.set_aspect('equal', adjustable='box')\n",
    "ax.axhline(0, color='black', linewidth=0.5)\n",
    "ax.axvline(0, color='black', linewidth=0.5)\n",
    "\n",
    "plt.show()\n"
   ]
  },
  {
   "cell_type": "markdown",
   "id": "92c53b7c",
   "metadata": {},
   "source": [
    "$P(A) = \\frac{\\text{Площадь квадрата}}{\\text{Площадь круга}} = \\frac{\\sqrt{2} ^ 2}{\\pi} \\approx 0.6366$"
   ]
  }
 ],
 "metadata": {
  "kernelspec": {
   "display_name": "venv",
   "language": "python",
   "name": "python3"
  },
  "language_info": {
   "codemirror_mode": {
    "name": "ipython",
    "version": 3
   },
   "file_extension": ".py",
   "mimetype": "text/x-python",
   "name": "python",
   "nbconvert_exporter": "python",
   "pygments_lexer": "ipython3",
   "version": "3.11.1"
  }
 },
 "nbformat": 4,
 "nbformat_minor": 5
}
