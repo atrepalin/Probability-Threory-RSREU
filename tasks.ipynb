{
 "cells": [
  {
   "cell_type": "markdown",
   "id": "310360d8",
   "metadata": {},
   "source": [
    "![alt text](images/image37.png)"
   ]
  },
  {
   "cell_type": "markdown",
   "id": "4b1c2737",
   "metadata": {},
   "source": [
    "а) Рассмотрим событие A - на карточке получилось слово событие\n",
    "\n",
    "$P(A) = \\frac{n}{m} = \\frac{n}{P_7} = \\frac{1}{7!}$"
   ]
  },
  {
   "cell_type": "code",
   "execution_count": 1,
   "id": "97249d36",
   "metadata": {},
   "outputs": [
    {
     "data": {
      "text/plain": [
       "np.float64(0.0002)"
      ]
     },
     "execution_count": 1,
     "metadata": {},
     "output_type": "execute_result"
    }
   ],
   "source": [
    "import scipy.special as sc\n",
    "\n",
    "round(1 / sc.factorial(7), 4)"
   ]
  },
  {
   "cell_type": "markdown",
   "id": "ac606258",
   "metadata": {},
   "source": [
    "б) Рассмотрим событие B - получилось слово статистика\n",
    "\n",
    "$P(B) = \\frac{n}{m} = \\frac{1}{P_{10} (2,3,2,2,1)} = \\frac{2! \\cdot 3! \\cdot 2! \\cdot 2!}{10!}$"
   ]
  },
  {
   "cell_type": "code",
   "execution_count": 3,
   "id": "7674d1cc",
   "metadata": {},
   "outputs": [
    {
     "data": {
      "text/plain": [
       "np.float64(1.323e-05)"
      ]
     },
     "execution_count": 3,
     "metadata": {},
     "output_type": "execute_result"
    }
   ],
   "source": [
    "round(\n",
    "    sc.factorial(2)\n",
    "    * sc.factorial(3)\n",
    "    * sc.factorial(2)\n",
    "    * sc.factorial(2)\n",
    "    / sc.factorial(10),\n",
    "    8,\n",
    ")"
   ]
  },
  {
   "cell_type": "markdown",
   "id": "b5e22a39",
   "metadata": {},
   "source": [
    "![alt text](images/image39.png)"
   ]
  },
  {
   "cell_type": "markdown",
   "id": "7e69d1b0",
   "metadata": {},
   "source": [
    "а) Рассмотрим событие A - среди обладателей окажутся 4 девушки\n",
    "\n",
    "$P(A) = \\frac{C_{15}^4}{C_{25}^4}$"
   ]
  },
  {
   "cell_type": "code",
   "execution_count": 5,
   "id": "325996d2",
   "metadata": {},
   "outputs": [
    {
     "data": {
      "text/plain": [
       "np.float64(0.1079)"
      ]
     },
     "execution_count": 5,
     "metadata": {},
     "output_type": "execute_result"
    }
   ],
   "source": [
    "round(sc.comb(15, 4) / sc.comb(25, 4), 4)"
   ]
  },
  {
   "cell_type": "markdown",
   "id": "59848fac",
   "metadata": {},
   "source": [
    "б) Рассмотрим событие B - среди обладателей окажутся 4 юноши\n",
    "\n",
    "$P(B) = \\frac{C_{10}^4}{C_{25}^4}$"
   ]
  },
  {
   "cell_type": "code",
   "execution_count": 6,
   "id": "d34a1f6b",
   "metadata": {},
   "outputs": [
    {
     "data": {
      "text/plain": [
       "np.float64(0.0166)"
      ]
     },
     "execution_count": 6,
     "metadata": {},
     "output_type": "execute_result"
    }
   ],
   "source": [
    "round(sc.comb(10, 4) / sc.comb(25, 4), 4)"
   ]
  },
  {
   "cell_type": "markdown",
   "id": "1767b62f",
   "metadata": {},
   "source": [
    "в) Рассмотрим событие D - среди обладателей окажутся 3 юноши и одна девушка\n",
    "\n",
    "$P(D) = \\frac{C_{10}^3 \\cdot 15}{C_{25}^4}$"
   ]
  },
  {
   "cell_type": "code",
   "execution_count": 7,
   "id": "00bddfab",
   "metadata": {},
   "outputs": [
    {
     "data": {
      "text/plain": [
       "np.float64(0.1423)"
      ]
     },
     "execution_count": 7,
     "metadata": {},
     "output_type": "execute_result"
    }
   ],
   "source": [
    "round(sc.comb(10, 3) * 15 / sc.comb(25, 4), 4)"
   ]
  },
  {
   "cell_type": "markdown",
   "id": "ee7b7552",
   "metadata": {},
   "source": [
    "![alt text](images/image42.png)"
   ]
  },
  {
   "cell_type": "markdown",
   "id": "508e64ba",
   "metadata": {},
   "source": [
    "Рассмотрим событие A - среди 5 проданных телевизоров окажется не менее 3 импортных\n",
    "\n",
    "$P(A) = \\sum_{i = 3}^5 P(A_i) = \\frac{C_{20}^3 \\cdot C_{10}^2 + C_{20}^4 \\cdot 10 + C_{20}^5}{C_{30}^5}$"
   ]
  },
  {
   "cell_type": "code",
   "execution_count": 9,
   "id": "17970bed",
   "metadata": {},
   "outputs": [
    {
     "data": {
      "text/plain": [
       "np.float64(0.8088)"
      ]
     },
     "execution_count": 9,
     "metadata": {},
     "output_type": "execute_result"
    }
   ],
   "source": [
    "round(\n",
    "    (sc.comb(20, 3) * sc.comb(10, 2) + sc.comb(20, 4) * 10 + sc.comb(20, 5))\n",
    "    / sc.comb(30, 5),\n",
    "    4,\n",
    ")"
   ]
  },
  {
   "cell_type": "markdown",
   "id": "f1a4690e",
   "metadata": {},
   "source": [
    "![alt text](images/image45.png)"
   ]
  }
 ],
 "metadata": {
  "kernelspec": {
   "display_name": "venv",
   "language": "python",
   "name": "python3"
  },
  "language_info": {
   "codemirror_mode": {
    "name": "ipython",
    "version": 3
   },
   "file_extension": ".py",
   "mimetype": "text/x-python",
   "name": "python",
   "nbconvert_exporter": "python",
   "pygments_lexer": "ipython3",
   "version": "3.11.1"
  }
 },
 "nbformat": 4,
 "nbformat_minor": 5
}
