{
 "cells": [
  {
   "cell_type": "markdown",
   "id": "167357a7",
   "metadata": {},
   "source": [
    "В любой случайной группе из 23 человек вероятность совпадения дней рождения у двух человек составляет более 50%"
   ]
  },
  {
   "cell_type": "code",
   "execution_count": 25,
   "id": "adf4d328",
   "metadata": {},
   "outputs": [
    {
     "data": {
      "application/vnd.plotly.v1+json": {
       "config": {
        "plotlyServerURL": "https://plot.ly"
       },
       "data": [
        {
         "type": "scatter",
         "x": {
          "bdata": "AQIDBAUGBwgJCgsMDQ4PEBESExQVFhcYGRobHB0eHyAhIiMkJSYnKCkqKywtLi8wMTIzNDU2Nzg5Ojs8PT4/QEFCQ0RFRkdISUpLTE1OT1BRUlNUVVZXWFlaW1xdXl9gYWJjZA==",
          "dtype": "i1"
         },
         "y": [
          -2.2737367544323206e-13,
          0.0027397260274035773,
          0.008204165884755255,
          0.016355912466794797,
          0.0271355736995873,
          0.04046248364898375,
          0.05623570309579129,
          0.07433529235199066,
          0.09462383388925155,
          0.11694817771100907,
          0.14114137832164408,
          0.16702478883802996,
          0.1944102752324599,
          0.22310251200511866,
          0.25290131976369723,
          0.28360400525273466,
          0.31500766529647783,
          0.3469114178718744,
          0.37911852603165386,
          0.41143838358049944,
          0.44368833516523465,
          0.47569530766240553,
          0.507297234324024,
          0.5383442579144757,
          0.5686997039694264,
          0.5982408201359335,
          0.62685928226323,
          0.6544614723424951,
          0.6809685374777166,
          0.7063162427192207,
          0.7304546337286169,
          0.7533475278503752,
          0.7749718541758315,
          0.795316864620152,
          0.8143832388746837,
          0.8321821063798416,
          0.8487340082163758,
          0.864067821082134,
          0.8782196643667223,
          0.8912318098179621,
          0.9031516114817374,
          0.9140304715618578,
          0.9239228556561293,
          0.9328853685514285,
          0.9409758994657756,
          0.9482528433672501,
          0.9547744028332903,
          0.9605979728794247,
          0.9657796093226816,
          0.9703735795779911,
          0.9744319933344261,
          0.9780045093342754,
          0.9811381134839154,
          0.9838769627588554,
          0.9862622888164467,
          0.9883323548852013,
          0.9901224593411715,
          0.9916649793892617,
          0.9929894484178181,
          0.9941226608653466,
          0.9950887988052909,
          0.9959095748953659,
          0.9966043868309474,
          0.9971904789669752,
          0.9976831073124921,
          0.9980957046404048,
          0.9984400429793997,
          0.9987263912544141,
          0.9989636663083864,
          0.999159575965157,
          0.9993207531773188,
          0.9994528806414567,
          0.9995608055560188,
          0.999648644444815,
          0.9997198781738114,
          0.9997774374531653,
          0.999823779243739,
          0.9998609545813613,
          0.9998906683968511,
          0.9999143319493135,
          0.999933108508368,
          0.9999479529215796,
          0.9999596456898823,
          0.9999688221494433,
          0.9999759973260097,
          0.9999815869898157,
          0.9999859253976947,
          0.9999892801659155,
          0.9999918646738591,
          0.9999938483561236,
          0.9999953651998191,
          0.9999965207253437,
          0.9999973976932023,
          0.9999980607467152,
          0.9999985601708488,
          0.9999989349209019,
          0.9999992150512947,
          0.9999994236541013,
          0.9999995783990275,
          0.9999996927510721
         ]
        }
       ],
       "layout": {
        "template": {
         "data": {
          "bar": [
           {
            "error_x": {
             "color": "#2a3f5f"
            },
            "error_y": {
             "color": "#2a3f5f"
            },
            "marker": {
             "line": {
              "color": "#E5ECF6",
              "width": 0.5
             },
             "pattern": {
              "fillmode": "overlay",
              "size": 10,
              "solidity": 0.2
             }
            },
            "type": "bar"
           }
          ],
          "barpolar": [
           {
            "marker": {
             "line": {
              "color": "#E5ECF6",
              "width": 0.5
             },
             "pattern": {
              "fillmode": "overlay",
              "size": 10,
              "solidity": 0.2
             }
            },
            "type": "barpolar"
           }
          ],
          "carpet": [
           {
            "aaxis": {
             "endlinecolor": "#2a3f5f",
             "gridcolor": "white",
             "linecolor": "white",
             "minorgridcolor": "white",
             "startlinecolor": "#2a3f5f"
            },
            "baxis": {
             "endlinecolor": "#2a3f5f",
             "gridcolor": "white",
             "linecolor": "white",
             "minorgridcolor": "white",
             "startlinecolor": "#2a3f5f"
            },
            "type": "carpet"
           }
          ],
          "choropleth": [
           {
            "colorbar": {
             "outlinewidth": 0,
             "ticks": ""
            },
            "type": "choropleth"
           }
          ],
          "contour": [
           {
            "colorbar": {
             "outlinewidth": 0,
             "ticks": ""
            },
            "colorscale": [
             [
              0,
              "#0d0887"
             ],
             [
              0.1111111111111111,
              "#46039f"
             ],
             [
              0.2222222222222222,
              "#7201a8"
             ],
             [
              0.3333333333333333,
              "#9c179e"
             ],
             [
              0.4444444444444444,
              "#bd3786"
             ],
             [
              0.5555555555555556,
              "#d8576b"
             ],
             [
              0.6666666666666666,
              "#ed7953"
             ],
             [
              0.7777777777777778,
              "#fb9f3a"
             ],
             [
              0.8888888888888888,
              "#fdca26"
             ],
             [
              1,
              "#f0f921"
             ]
            ],
            "type": "contour"
           }
          ],
          "contourcarpet": [
           {
            "colorbar": {
             "outlinewidth": 0,
             "ticks": ""
            },
            "type": "contourcarpet"
           }
          ],
          "heatmap": [
           {
            "colorbar": {
             "outlinewidth": 0,
             "ticks": ""
            },
            "colorscale": [
             [
              0,
              "#0d0887"
             ],
             [
              0.1111111111111111,
              "#46039f"
             ],
             [
              0.2222222222222222,
              "#7201a8"
             ],
             [
              0.3333333333333333,
              "#9c179e"
             ],
             [
              0.4444444444444444,
              "#bd3786"
             ],
             [
              0.5555555555555556,
              "#d8576b"
             ],
             [
              0.6666666666666666,
              "#ed7953"
             ],
             [
              0.7777777777777778,
              "#fb9f3a"
             ],
             [
              0.8888888888888888,
              "#fdca26"
             ],
             [
              1,
              "#f0f921"
             ]
            ],
            "type": "heatmap"
           }
          ],
          "histogram": [
           {
            "marker": {
             "pattern": {
              "fillmode": "overlay",
              "size": 10,
              "solidity": 0.2
             }
            },
            "type": "histogram"
           }
          ],
          "histogram2d": [
           {
            "colorbar": {
             "outlinewidth": 0,
             "ticks": ""
            },
            "colorscale": [
             [
              0,
              "#0d0887"
             ],
             [
              0.1111111111111111,
              "#46039f"
             ],
             [
              0.2222222222222222,
              "#7201a8"
             ],
             [
              0.3333333333333333,
              "#9c179e"
             ],
             [
              0.4444444444444444,
              "#bd3786"
             ],
             [
              0.5555555555555556,
              "#d8576b"
             ],
             [
              0.6666666666666666,
              "#ed7953"
             ],
             [
              0.7777777777777778,
              "#fb9f3a"
             ],
             [
              0.8888888888888888,
              "#fdca26"
             ],
             [
              1,
              "#f0f921"
             ]
            ],
            "type": "histogram2d"
           }
          ],
          "histogram2dcontour": [
           {
            "colorbar": {
             "outlinewidth": 0,
             "ticks": ""
            },
            "colorscale": [
             [
              0,
              "#0d0887"
             ],
             [
              0.1111111111111111,
              "#46039f"
             ],
             [
              0.2222222222222222,
              "#7201a8"
             ],
             [
              0.3333333333333333,
              "#9c179e"
             ],
             [
              0.4444444444444444,
              "#bd3786"
             ],
             [
              0.5555555555555556,
              "#d8576b"
             ],
             [
              0.6666666666666666,
              "#ed7953"
             ],
             [
              0.7777777777777778,
              "#fb9f3a"
             ],
             [
              0.8888888888888888,
              "#fdca26"
             ],
             [
              1,
              "#f0f921"
             ]
            ],
            "type": "histogram2dcontour"
           }
          ],
          "mesh3d": [
           {
            "colorbar": {
             "outlinewidth": 0,
             "ticks": ""
            },
            "type": "mesh3d"
           }
          ],
          "parcoords": [
           {
            "line": {
             "colorbar": {
              "outlinewidth": 0,
              "ticks": ""
             }
            },
            "type": "parcoords"
           }
          ],
          "pie": [
           {
            "automargin": true,
            "type": "pie"
           }
          ],
          "scatter": [
           {
            "fillpattern": {
             "fillmode": "overlay",
             "size": 10,
             "solidity": 0.2
            },
            "type": "scatter"
           }
          ],
          "scatter3d": [
           {
            "line": {
             "colorbar": {
              "outlinewidth": 0,
              "ticks": ""
             }
            },
            "marker": {
             "colorbar": {
              "outlinewidth": 0,
              "ticks": ""
             }
            },
            "type": "scatter3d"
           }
          ],
          "scattercarpet": [
           {
            "marker": {
             "colorbar": {
              "outlinewidth": 0,
              "ticks": ""
             }
            },
            "type": "scattercarpet"
           }
          ],
          "scattergeo": [
           {
            "marker": {
             "colorbar": {
              "outlinewidth": 0,
              "ticks": ""
             }
            },
            "type": "scattergeo"
           }
          ],
          "scattergl": [
           {
            "marker": {
             "colorbar": {
              "outlinewidth": 0,
              "ticks": ""
             }
            },
            "type": "scattergl"
           }
          ],
          "scattermap": [
           {
            "marker": {
             "colorbar": {
              "outlinewidth": 0,
              "ticks": ""
             }
            },
            "type": "scattermap"
           }
          ],
          "scattermapbox": [
           {
            "marker": {
             "colorbar": {
              "outlinewidth": 0,
              "ticks": ""
             }
            },
            "type": "scattermapbox"
           }
          ],
          "scatterpolar": [
           {
            "marker": {
             "colorbar": {
              "outlinewidth": 0,
              "ticks": ""
             }
            },
            "type": "scatterpolar"
           }
          ],
          "scatterpolargl": [
           {
            "marker": {
             "colorbar": {
              "outlinewidth": 0,
              "ticks": ""
             }
            },
            "type": "scatterpolargl"
           }
          ],
          "scatterternary": [
           {
            "marker": {
             "colorbar": {
              "outlinewidth": 0,
              "ticks": ""
             }
            },
            "type": "scatterternary"
           }
          ],
          "surface": [
           {
            "colorbar": {
             "outlinewidth": 0,
             "ticks": ""
            },
            "colorscale": [
             [
              0,
              "#0d0887"
             ],
             [
              0.1111111111111111,
              "#46039f"
             ],
             [
              0.2222222222222222,
              "#7201a8"
             ],
             [
              0.3333333333333333,
              "#9c179e"
             ],
             [
              0.4444444444444444,
              "#bd3786"
             ],
             [
              0.5555555555555556,
              "#d8576b"
             ],
             [
              0.6666666666666666,
              "#ed7953"
             ],
             [
              0.7777777777777778,
              "#fb9f3a"
             ],
             [
              0.8888888888888888,
              "#fdca26"
             ],
             [
              1,
              "#f0f921"
             ]
            ],
            "type": "surface"
           }
          ],
          "table": [
           {
            "cells": {
             "fill": {
              "color": "#EBF0F8"
             },
             "line": {
              "color": "white"
             }
            },
            "header": {
             "fill": {
              "color": "#C8D4E3"
             },
             "line": {
              "color": "white"
             }
            },
            "type": "table"
           }
          ]
         },
         "layout": {
          "annotationdefaults": {
           "arrowcolor": "#2a3f5f",
           "arrowhead": 0,
           "arrowwidth": 1
          },
          "autotypenumbers": "strict",
          "coloraxis": {
           "colorbar": {
            "outlinewidth": 0,
            "ticks": ""
           }
          },
          "colorscale": {
           "diverging": [
            [
             0,
             "#8e0152"
            ],
            [
             0.1,
             "#c51b7d"
            ],
            [
             0.2,
             "#de77ae"
            ],
            [
             0.3,
             "#f1b6da"
            ],
            [
             0.4,
             "#fde0ef"
            ],
            [
             0.5,
             "#f7f7f7"
            ],
            [
             0.6,
             "#e6f5d0"
            ],
            [
             0.7,
             "#b8e186"
            ],
            [
             0.8,
             "#7fbc41"
            ],
            [
             0.9,
             "#4d9221"
            ],
            [
             1,
             "#276419"
            ]
           ],
           "sequential": [
            [
             0,
             "#0d0887"
            ],
            [
             0.1111111111111111,
             "#46039f"
            ],
            [
             0.2222222222222222,
             "#7201a8"
            ],
            [
             0.3333333333333333,
             "#9c179e"
            ],
            [
             0.4444444444444444,
             "#bd3786"
            ],
            [
             0.5555555555555556,
             "#d8576b"
            ],
            [
             0.6666666666666666,
             "#ed7953"
            ],
            [
             0.7777777777777778,
             "#fb9f3a"
            ],
            [
             0.8888888888888888,
             "#fdca26"
            ],
            [
             1,
             "#f0f921"
            ]
           ],
           "sequentialminus": [
            [
             0,
             "#0d0887"
            ],
            [
             0.1111111111111111,
             "#46039f"
            ],
            [
             0.2222222222222222,
             "#7201a8"
            ],
            [
             0.3333333333333333,
             "#9c179e"
            ],
            [
             0.4444444444444444,
             "#bd3786"
            ],
            [
             0.5555555555555556,
             "#d8576b"
            ],
            [
             0.6666666666666666,
             "#ed7953"
            ],
            [
             0.7777777777777778,
             "#fb9f3a"
            ],
            [
             0.8888888888888888,
             "#fdca26"
            ],
            [
             1,
             "#f0f921"
            ]
           ]
          },
          "colorway": [
           "#636efa",
           "#EF553B",
           "#00cc96",
           "#ab63fa",
           "#FFA15A",
           "#19d3f3",
           "#FF6692",
           "#B6E880",
           "#FF97FF",
           "#FECB52"
          ],
          "font": {
           "color": "#2a3f5f"
          },
          "geo": {
           "bgcolor": "white",
           "lakecolor": "white",
           "landcolor": "#E5ECF6",
           "showlakes": true,
           "showland": true,
           "subunitcolor": "white"
          },
          "hoverlabel": {
           "align": "left"
          },
          "hovermode": "closest",
          "mapbox": {
           "style": "light"
          },
          "paper_bgcolor": "white",
          "plot_bgcolor": "#E5ECF6",
          "polar": {
           "angularaxis": {
            "gridcolor": "white",
            "linecolor": "white",
            "ticks": ""
           },
           "bgcolor": "#E5ECF6",
           "radialaxis": {
            "gridcolor": "white",
            "linecolor": "white",
            "ticks": ""
           }
          },
          "scene": {
           "xaxis": {
            "backgroundcolor": "#E5ECF6",
            "gridcolor": "white",
            "gridwidth": 2,
            "linecolor": "white",
            "showbackground": true,
            "ticks": "",
            "zerolinecolor": "white"
           },
           "yaxis": {
            "backgroundcolor": "#E5ECF6",
            "gridcolor": "white",
            "gridwidth": 2,
            "linecolor": "white",
            "showbackground": true,
            "ticks": "",
            "zerolinecolor": "white"
           },
           "zaxis": {
            "backgroundcolor": "#E5ECF6",
            "gridcolor": "white",
            "gridwidth": 2,
            "linecolor": "white",
            "showbackground": true,
            "ticks": "",
            "zerolinecolor": "white"
           }
          },
          "shapedefaults": {
           "line": {
            "color": "#2a3f5f"
           }
          },
          "ternary": {
           "aaxis": {
            "gridcolor": "white",
            "linecolor": "white",
            "ticks": ""
           },
           "baxis": {
            "gridcolor": "white",
            "linecolor": "white",
            "ticks": ""
           },
           "bgcolor": "#E5ECF6",
           "caxis": {
            "gridcolor": "white",
            "linecolor": "white",
            "ticks": ""
           }
          },
          "title": {
           "x": 0.05
          },
          "xaxis": {
           "automargin": true,
           "gridcolor": "white",
           "linecolor": "white",
           "ticks": "",
           "title": {
            "standoff": 15
           },
           "zerolinecolor": "white",
           "zerolinewidth": 2
          },
          "yaxis": {
           "automargin": true,
           "gridcolor": "white",
           "linecolor": "white",
           "ticks": "",
           "title": {
            "standoff": 15
           },
           "zerolinecolor": "white",
           "zerolinewidth": 2
          }
         }
        },
        "xaxis": {
         "title": {
          "text": "Количество человек в группе"
         }
        },
        "yaxis": {
         "tickformat": ".0%",
         "title": {
          "text": "Вероятность совпадения"
         }
        }
       }
      }
     },
     "metadata": {},
     "output_type": "display_data"
    }
   ],
   "source": [
    "import plotly.graph_objs as go\n",
    "from math import log, exp, lgamma\n",
    "import numpy as np\n",
    "\n",
    "def probability(n):\n",
    "    if n > 365:\n",
    "        return 1\n",
    "\n",
    "    log_prob = lgamma(366) - n * log(365) - lgamma(366 - n)\n",
    "\n",
    "    return 1 - exp(log_prob)\n",
    "\n",
    "group_sizes = np.arange(1, 101)\n",
    "probabilities = [probability(n) for n in group_sizes]\n",
    "\n",
    "fig = go.Figure([go.Scatter(x=group_sizes, y=probabilities)])\n",
    "\n",
    "fig.update_layout(\n",
    "    yaxis=dict(tickformat=\".0%\"),\n",
    "    xaxis_title=\"Количество человек в группе\",\n",
    "    yaxis_title=\"Вероятность совпадения\",\n",
    ")\n",
    "fig.show()\n"
   ]
  },
  {
   "cell_type": "code",
   "execution_count": 41,
   "id": "0445a669",
   "metadata": {},
   "outputs": [
    {
     "data": {
      "text/html": [
       "<div>\n",
       "<style scoped>\n",
       "    .dataframe tbody tr th:only-of-type {\n",
       "        vertical-align: middle;\n",
       "    }\n",
       "\n",
       "    .dataframe tbody tr th {\n",
       "        vertical-align: top;\n",
       "    }\n",
       "\n",
       "    .dataframe thead th {\n",
       "        text-align: right;\n",
       "    }\n",
       "</style>\n",
       "<table border=\"1\" class=\"dataframe\">\n",
       "  <thead>\n",
       "    <tr style=\"text-align: right;\">\n",
       "      <th></th>\n",
       "      <th>Число человек</th>\n",
       "      <th>Симуляция</th>\n",
       "    </tr>\n",
       "  </thead>\n",
       "  <tbody>\n",
       "    <tr>\n",
       "      <th>0</th>\n",
       "      <td>10</td>\n",
       "      <td>0.1165</td>\n",
       "    </tr>\n",
       "    <tr>\n",
       "      <th>1</th>\n",
       "      <td>20</td>\n",
       "      <td>0.4073</td>\n",
       "    </tr>\n",
       "    <tr>\n",
       "      <th>2</th>\n",
       "      <td>30</td>\n",
       "      <td>0.7077</td>\n",
       "    </tr>\n",
       "    <tr>\n",
       "      <th>3</th>\n",
       "      <td>40</td>\n",
       "      <td>0.8889</td>\n",
       "    </tr>\n",
       "    <tr>\n",
       "      <th>4</th>\n",
       "      <td>50</td>\n",
       "      <td>0.9696</td>\n",
       "    </tr>\n",
       "    <tr>\n",
       "      <th>5</th>\n",
       "      <td>60</td>\n",
       "      <td>0.9930</td>\n",
       "    </tr>\n",
       "    <tr>\n",
       "      <th>6</th>\n",
       "      <td>70</td>\n",
       "      <td>0.9989</td>\n",
       "    </tr>\n",
       "    <tr>\n",
       "      <th>7</th>\n",
       "      <td>80</td>\n",
       "      <td>0.9999</td>\n",
       "    </tr>\n",
       "    <tr>\n",
       "      <th>8</th>\n",
       "      <td>90</td>\n",
       "      <td>1.0000</td>\n",
       "    </tr>\n",
       "    <tr>\n",
       "      <th>9</th>\n",
       "      <td>100</td>\n",
       "      <td>1.0000</td>\n",
       "    </tr>\n",
       "  </tbody>\n",
       "</table>\n",
       "</div>"
      ],
      "text/plain": [
       "   Число человек  Симуляция\n",
       "0             10     0.1165\n",
       "1             20     0.4073\n",
       "2             30     0.7077\n",
       "3             40     0.8889\n",
       "4             50     0.9696\n",
       "5             60     0.9930\n",
       "6             70     0.9989\n",
       "7             80     0.9999\n",
       "8             90     1.0000\n",
       "9            100     1.0000"
      ]
     },
     "execution_count": 41,
     "metadata": {},
     "output_type": "execute_result"
    }
   ],
   "source": [
    "import pandas as pd\n",
    "import numpy as np\n",
    "\n",
    "bd = pd.Series(range(1, 366))\n",
    "\n",
    "def simulate(n, trials):\n",
    "    count = 0\n",
    "    for _ in range(trials):\n",
    "        group = bd.sample(n, replace=True)\n",
    "        if np.any(group.duplicated()):\n",
    "            count += 1\n",
    "    return count / trials\n",
    "\n",
    "group_sizes = list(range(10, 101, 10))\n",
    "results = []\n",
    "\n",
    "for n in group_sizes:\n",
    "    sim = simulate(n, 10000)\n",
    "    results.append((n, sim))\n",
    "\n",
    "df = pd.DataFrame(results, columns=[\"Число человек\", \"Симуляция\"])\n",
    "\n",
    "df\n"
   ]
  },
  {
   "cell_type": "markdown",
   "id": "8c58de60",
   "metadata": {},
   "source": [
    "# Аналитическое решение\n",
    "\n",
    "## Условие \n",
    "\n",
    "Монета подбрасывается один раз в воскресенье.\n",
    "\n",
    "* Если выпадет **орёл (О)**, то Спящую Красавицу разбудят только в **понедельник**, затем дадут ей лекарство, которое стирает воспоминания о пробуждении, и она больше не проснётся.\n",
    "* Если выпадет **решка (Р)**, то её разбудят **в понедельник** и снова **во вторник**; после каждого пробуждения память о пробуждении стирают, так что при каждом пробуждении она не помнит предыдущих.\n",
    "\n",
    "Вопрос: при пробуждении (не зная дня недели) какова апостериорная вероятность того, что монета выпала **орлом**?\n",
    "\n",
    "## Подход «по пробуждениям»\n",
    "\n",
    "Рассмотрим все «события пробуждения», которые могут случиться:\n",
    "\n",
    "* О - 1 пробуждение: (О, понедельник)\n",
    "* Р - 2 пробуждения: (Р, понедельник), (Р, вторник)\n",
    "\n",
    "Если мы выбираем **случайное пробуждение**, то возможные пробуждения равновесно возникают в повторяющихся экспериментах: на каждое выпадение **орла** приходится 1 пробуждение, на каждое выпадение **решки** - 2 пробуждения. При честной монете относительные частоты пробуждений: 1 для **орла** и 2 для **решки**, итого 3.\n",
    "\n",
    "То есть:\n",
    "$P(О | \\text{пробуждение}) = \\frac{1}{3}$\n",
    "\n",
    "## Подход «по исходу монеты»\n",
    "\n",
    "До пробуждения (с учётом априорной информации) вероятность выпадения **орла** равна $\\frac{1}{2}$ - подбрасывание монеты честное, а пробуждение само по себе не даёт новой релевантной информации о монете (в том смысле, что априорная вероятность выпадения **орла** остаётся $\\frac{1}{2}$). Следовательно, при пробуждении она должна оставаться $\\frac{1}{2}$"
   ]
  },
  {
   "cell_type": "code",
   "execution_count": 55,
   "id": "0f56a79a",
   "metadata": {},
   "outputs": [
    {
     "data": {
      "text/html": [
       "<div>\n",
       "<style scoped>\n",
       "    .dataframe tbody tr th:only-of-type {\n",
       "        vertical-align: middle;\n",
       "    }\n",
       "\n",
       "    .dataframe tbody tr th {\n",
       "        vertical-align: top;\n",
       "    }\n",
       "\n",
       "    .dataframe thead th {\n",
       "        text-align: right;\n",
       "    }\n",
       "</style>\n",
       "<table border=\"1\" class=\"dataframe\">\n",
       "  <thead>\n",
       "    <tr style=\"text-align: right;\">\n",
       "      <th></th>\n",
       "      <th>Всего пробуждений</th>\n",
       "      <th>Пробуждений при орле</th>\n",
       "      <th>P(О|случайное пробуждение)</th>\n",
       "      <th>P(О|понедельник)</th>\n",
       "    </tr>\n",
       "  </thead>\n",
       "  <tbody>\n",
       "    <tr>\n",
       "      <th>0</th>\n",
       "      <td>300079</td>\n",
       "      <td>99921</td>\n",
       "      <td>0.332982</td>\n",
       "      <td>0.499605</td>\n",
       "    </tr>\n",
       "  </tbody>\n",
       "</table>\n",
       "</div>"
      ],
      "text/plain": [
       "   Всего пробуждений  Пробуждений при орле  P(О|случайное пробуждение)  \\\n",
       "0             300079                 99921                    0.332982   \n",
       "\n",
       "   P(О|понедельник)  \n",
       "0          0.499605  "
      ]
     },
     "execution_count": 55,
     "metadata": {},
     "output_type": "execute_result"
    }
   ],
   "source": [
    "import numpy as np\n",
    "import pandas as pd\n",
    "\n",
    "total_awakenings = 0\n",
    "heads_awakenings = 0\n",
    "monday_awakenings = 0\n",
    "monday_heads = 0\n",
    "\n",
    "for _ in range(200000):\n",
    "    coin_heads = np.random.rand() < 0.5\n",
    "    if coin_heads:\n",
    "        total_awakenings += 1\n",
    "        heads_awakenings += 1\n",
    "        monday_awakenings += 1\n",
    "        monday_heads += 1\n",
    "    else:\n",
    "        total_awakenings += 2\n",
    "        monday_awakenings += 1\n",
    "\n",
    "frac_heads_by_awakenings = heads_awakenings / total_awakenings\n",
    "frac_heads_monday = monday_heads / monday_awakenings\n",
    "\n",
    "df = pd.DataFrame([{\n",
    "    \"Всего пробуждений\": total_awakenings,\n",
    "    \"Пробуждений при орле\": heads_awakenings,\n",
    "    \"P(О|случайное пробуждение)\": frac_heads_by_awakenings,\n",
    "    \"P(О|понедельник)\": frac_heads_monday\n",
    "}])\n",
    "\n",
    "df\n"
   ]
  }
 ],
 "metadata": {
  "kernelspec": {
   "display_name": "venv",
   "language": "python",
   "name": "python3"
  },
  "language_info": {
   "codemirror_mode": {
    "name": "ipython",
    "version": 3
   },
   "file_extension": ".py",
   "mimetype": "text/x-python",
   "name": "python",
   "nbconvert_exporter": "python",
   "pygments_lexer": "ipython3",
   "version": "3.11.1"
  }
 },
 "nbformat": 4,
 "nbformat_minor": 5
}
