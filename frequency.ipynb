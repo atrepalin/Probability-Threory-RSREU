{
 "cells": [
  {
   "cell_type": "markdown",
   "id": "7ce13727",
   "metadata": {},
   "source": [
    "Найти вероятность того, что из 10 книг, расположенных в случайном порядке, 3 определенные книги окажутся рядом.\n",
    "\n",
    "$P(A) = \\frac{P_8 \\cdot P_3}{P_{10}}$"
   ]
  },
  {
   "cell_type": "code",
   "execution_count": 2,
   "id": "b9a08489",
   "metadata": {},
   "outputs": [
    {
     "data": {
      "application/vnd.plotly.v1+json": {
       "config": {
        "plotlyServerURL": "https://plot.ly"
       },
       "data": [
        {
         "type": "scatter",
         "x": {
          "bdata": "CgA8AG4AoADSAAQBNgFoAZoBzAH+ATACYgKUAsYC+AIqA1wDjgPAA/IDJARWBIgEugTsBB4FUAWCBbQF5gUYBkoGfAauBuAGEgdEB3YHqAfaBwwIPghwCKII1AgGCTgJagmcCc4JAAoyCmQKlgrICvoKLAteC5ALwgv0CyYMWAyKDLwM7gwgDVINhA22DegNGg5MDn4OsA7iDhQPRg94D6oP3A8OEEAQchCkENYQCBE6EWwRnhHQEQISNBJmEpgSyhL8Ei4TYBOSE8QT9hMoFFoUjBS+FPAUIhVUFYYVuBXqFRwWThaAFrIW5BYWF0gXehesF94XEBhCGHQYphjYGAoZPBluGaAZ0hkEGjYaaBqaGswa/howG2IblBvGG/gbKhxcHI4cwBzyHCQdVh2IHbod7B0eHlAegh60HuYeGB9KH3wfrh/gHxIgRCB2IKgg2iAMIT4hcCGiIdQhBiI4ImoinCLOIgAjMiNkI5YjyCP6IywkXiSQJMIk9CQmJVgliiW8Je4lICZSJoQmtiboJg==",
          "dtype": "i2"
         },
         "y": [
          0,
          0.03333333333333333,
          0.10909090909090909,
          0.05,
          0.0761904761904762,
          0.06153846153846154,
          0.06129032258064516,
          0.06666666666666667,
          0.08536585365853659,
          0.08695652173913043,
          0.056862745098039215,
          0.07321428571428572,
          0.06393442622950819,
          0.07121212121212121,
          0.0647887323943662,
          0.06578947368421052,
          0.08024691358024691,
          0.07093023255813953,
          0.07142857142857142,
          0.05,
          0.062376237623762376,
          0.06509433962264151,
          0.06756756756756757,
          0.06637931034482758,
          0.06115702479338843,
          0.06349206349206349,
          0.06183206106870229,
          0.06544117647058824,
          0.06666666666666667,
          0.05,
          0.0695364238410596,
          0.06923076923076923,
          0.07329192546583851,
          0.06385542168674699,
          0.07192982456140351,
          0.07386363636363637,
          0.07016574585635359,
          0.06666666666666667,
          0.06858638743455497,
          0.06479591836734694,
          0.06567164179104477,
          0.06359223300970873,
          0.05687203791469194,
          0.06111111111111111,
          0.0579185520361991,
          0.0752212389380531,
          0.07835497835497836,
          0.0635593220338983,
          0.06846473029045644,
          0.07032520325203252,
          0.06055776892430279,
          0.066015625,
          0.07164750957854406,
          0.06729323308270677,
          0.07195571955719557,
          0.06557971014492754,
          0.05871886120996441,
          0.06853146853146853,
          0.06666666666666667,
          0.06959459459459459,
          0.05880398671096346,
          0.06535947712418301,
          0.06205787781350482,
          0.06518987341772152,
          0.07071651090342679,
          0.06349693251533742,
          0.06404833836858007,
          0.06696428571428571,
          0.06304985337243402,
          0.0569364161849711,
          0.06324786324786325,
          0.06657303370786517,
          0.06426592797783934,
          0.06584699453551912,
          0.06819407008086253,
          0.07446808510638298,
          0.07349081364829396,
          0.06865284974093264,
          0.07647058823529412,
          0.0601010101010101,
          0.07007481296758104,
          0.06354679802955665,
          0.06739659367396594,
          0.06899038461538462,
          0.06959619952494062,
          0.06713615023474179,
          0.07169373549883991,
          0.07454128440366972,
          0.0655328798185941,
          0.06950672645739911,
          0.06341463414634146,
          0.06557017543859649,
          0.07006507592190889,
          0.07210300429184549,
          0.0643312101910828,
          0.06386554621848739,
          0.06985446985446986,
          0.0668724279835391,
          0.0680244399185336,
          0.06733870967741935,
          0.06706586826347305,
          0.06640316205533597,
          0.07260273972602739,
          0.06608527131782946,
          0.06660268714011516,
          0.07281368821292776,
          0.07080979284369116,
          0.06585820895522389,
          0.0622920517560074,
          0.06263736263736264,
          0.06751361161524501,
          0.07482014388489208,
          0.0696969696969697,
          0.06448763250883392,
          0.06900175131348511,
          0.07013888888888889,
          0.0685025817555938,
          0.06143344709897611,
          0.06700507614213198,
          0.06694630872483222,
          0.06405990016638935,
          0.06765676567656766,
          0.06726677577741408,
          0.06785714285714285,
          0.06650563607085347,
          0.06805111821086263,
          0.062282091917591126,
          0.06682389937106918,
          0.0609984399375975,
          0.06068111455108359,
          0.06251920122887865,
          0.05914634146341463,
          0.06475037821482602,
          0.06681681681681682,
          0.06751117734724292,
          0.06523668639053254,
          0.06607929515418502,
          0.0641399416909621,
          0.06657018813314038,
          0.06910919540229885,
          0.06747503566333808,
          0.06359773371104815,
          0.06962025316455696,
          0.06899441340782123,
          0.06435506241331485,
          0.0674931129476584,
          0.06689466484268126,
          0.06888586956521739,
          0.06639676113360324,
          0.06327077747989276,
          0.07017310252996005,
          0.06891534391534392,
          0.06373193166885677,
          0.06514360313315927,
          0.0682230869001297,
          0.06791237113402061,
          0.06952624839948783,
          0.06806615776081425,
          0.06776232616940582,
          0.07010050251256282,
          0.07066167290886392,
          0.06774193548387097,
          0.06633785450061652,
          0.06262254901960784,
          0.06650426309378807,
          0.06876513317191284,
          0.06570397111913358,
          0.0638755980861244,
          0.06777645659928656,
          0.06122931442080378,
          0.06686251468860165,
          0.0661214953271028,
          0.06376306620209059,
          0.06789838337182448,
          0.0669345579793341,
          0.06643835616438357,
          0.06696935300794551,
          0.06275395033860046,
          0.06835016835016836,
          0.06395089285714285,
          0.06703662597114317,
          0.059602649006622516,
          0.06871569703622393,
          0.06899563318777292,
          0.07404994571118349,
          0.06825053995680345,
          0.06616541353383458,
          0.06442307692307692,
          0.06790648246546227,
          0.06585623678646935,
          0.06529968454258675,
          0.06861924686192468,
          0.06493236212278876,
          0.06966873706004141,
          0.0678681771369722,
          0.07182377049180327,
          0.06564729867482161,
          0.06805273833671399,
          0.06579212916246216,
          0.07078313253012049
         ]
        }
       ],
       "layout": {
        "shapes": [
         {
          "line": {
           "color": "red",
           "width": 2
          },
          "type": "line",
          "x0": 0,
          "x1": 9960,
          "y0": 0.06666666666666667,
          "y1": 0.06666666666666667
         }
        ],
        "template": {
         "data": {
          "bar": [
           {
            "error_x": {
             "color": "#2a3f5f"
            },
            "error_y": {
             "color": "#2a3f5f"
            },
            "marker": {
             "line": {
              "color": "#E5ECF6",
              "width": 0.5
             },
             "pattern": {
              "fillmode": "overlay",
              "size": 10,
              "solidity": 0.2
             }
            },
            "type": "bar"
           }
          ],
          "barpolar": [
           {
            "marker": {
             "line": {
              "color": "#E5ECF6",
              "width": 0.5
             },
             "pattern": {
              "fillmode": "overlay",
              "size": 10,
              "solidity": 0.2
             }
            },
            "type": "barpolar"
           }
          ],
          "carpet": [
           {
            "aaxis": {
             "endlinecolor": "#2a3f5f",
             "gridcolor": "white",
             "linecolor": "white",
             "minorgridcolor": "white",
             "startlinecolor": "#2a3f5f"
            },
            "baxis": {
             "endlinecolor": "#2a3f5f",
             "gridcolor": "white",
             "linecolor": "white",
             "minorgridcolor": "white",
             "startlinecolor": "#2a3f5f"
            },
            "type": "carpet"
           }
          ],
          "choropleth": [
           {
            "colorbar": {
             "outlinewidth": 0,
             "ticks": ""
            },
            "type": "choropleth"
           }
          ],
          "contour": [
           {
            "colorbar": {
             "outlinewidth": 0,
             "ticks": ""
            },
            "colorscale": [
             [
              0,
              "#0d0887"
             ],
             [
              0.1111111111111111,
              "#46039f"
             ],
             [
              0.2222222222222222,
              "#7201a8"
             ],
             [
              0.3333333333333333,
              "#9c179e"
             ],
             [
              0.4444444444444444,
              "#bd3786"
             ],
             [
              0.5555555555555556,
              "#d8576b"
             ],
             [
              0.6666666666666666,
              "#ed7953"
             ],
             [
              0.7777777777777778,
              "#fb9f3a"
             ],
             [
              0.8888888888888888,
              "#fdca26"
             ],
             [
              1,
              "#f0f921"
             ]
            ],
            "type": "contour"
           }
          ],
          "contourcarpet": [
           {
            "colorbar": {
             "outlinewidth": 0,
             "ticks": ""
            },
            "type": "contourcarpet"
           }
          ],
          "heatmap": [
           {
            "colorbar": {
             "outlinewidth": 0,
             "ticks": ""
            },
            "colorscale": [
             [
              0,
              "#0d0887"
             ],
             [
              0.1111111111111111,
              "#46039f"
             ],
             [
              0.2222222222222222,
              "#7201a8"
             ],
             [
              0.3333333333333333,
              "#9c179e"
             ],
             [
              0.4444444444444444,
              "#bd3786"
             ],
             [
              0.5555555555555556,
              "#d8576b"
             ],
             [
              0.6666666666666666,
              "#ed7953"
             ],
             [
              0.7777777777777778,
              "#fb9f3a"
             ],
             [
              0.8888888888888888,
              "#fdca26"
             ],
             [
              1,
              "#f0f921"
             ]
            ],
            "type": "heatmap"
           }
          ],
          "histogram": [
           {
            "marker": {
             "pattern": {
              "fillmode": "overlay",
              "size": 10,
              "solidity": 0.2
             }
            },
            "type": "histogram"
           }
          ],
          "histogram2d": [
           {
            "colorbar": {
             "outlinewidth": 0,
             "ticks": ""
            },
            "colorscale": [
             [
              0,
              "#0d0887"
             ],
             [
              0.1111111111111111,
              "#46039f"
             ],
             [
              0.2222222222222222,
              "#7201a8"
             ],
             [
              0.3333333333333333,
              "#9c179e"
             ],
             [
              0.4444444444444444,
              "#bd3786"
             ],
             [
              0.5555555555555556,
              "#d8576b"
             ],
             [
              0.6666666666666666,
              "#ed7953"
             ],
             [
              0.7777777777777778,
              "#fb9f3a"
             ],
             [
              0.8888888888888888,
              "#fdca26"
             ],
             [
              1,
              "#f0f921"
             ]
            ],
            "type": "histogram2d"
           }
          ],
          "histogram2dcontour": [
           {
            "colorbar": {
             "outlinewidth": 0,
             "ticks": ""
            },
            "colorscale": [
             [
              0,
              "#0d0887"
             ],
             [
              0.1111111111111111,
              "#46039f"
             ],
             [
              0.2222222222222222,
              "#7201a8"
             ],
             [
              0.3333333333333333,
              "#9c179e"
             ],
             [
              0.4444444444444444,
              "#bd3786"
             ],
             [
              0.5555555555555556,
              "#d8576b"
             ],
             [
              0.6666666666666666,
              "#ed7953"
             ],
             [
              0.7777777777777778,
              "#fb9f3a"
             ],
             [
              0.8888888888888888,
              "#fdca26"
             ],
             [
              1,
              "#f0f921"
             ]
            ],
            "type": "histogram2dcontour"
           }
          ],
          "mesh3d": [
           {
            "colorbar": {
             "outlinewidth": 0,
             "ticks": ""
            },
            "type": "mesh3d"
           }
          ],
          "parcoords": [
           {
            "line": {
             "colorbar": {
              "outlinewidth": 0,
              "ticks": ""
             }
            },
            "type": "parcoords"
           }
          ],
          "pie": [
           {
            "automargin": true,
            "type": "pie"
           }
          ],
          "scatter": [
           {
            "fillpattern": {
             "fillmode": "overlay",
             "size": 10,
             "solidity": 0.2
            },
            "type": "scatter"
           }
          ],
          "scatter3d": [
           {
            "line": {
             "colorbar": {
              "outlinewidth": 0,
              "ticks": ""
             }
            },
            "marker": {
             "colorbar": {
              "outlinewidth": 0,
              "ticks": ""
             }
            },
            "type": "scatter3d"
           }
          ],
          "scattercarpet": [
           {
            "marker": {
             "colorbar": {
              "outlinewidth": 0,
              "ticks": ""
             }
            },
            "type": "scattercarpet"
           }
          ],
          "scattergeo": [
           {
            "marker": {
             "colorbar": {
              "outlinewidth": 0,
              "ticks": ""
             }
            },
            "type": "scattergeo"
           }
          ],
          "scattergl": [
           {
            "marker": {
             "colorbar": {
              "outlinewidth": 0,
              "ticks": ""
             }
            },
            "type": "scattergl"
           }
          ],
          "scattermap": [
           {
            "marker": {
             "colorbar": {
              "outlinewidth": 0,
              "ticks": ""
             }
            },
            "type": "scattermap"
           }
          ],
          "scattermapbox": [
           {
            "marker": {
             "colorbar": {
              "outlinewidth": 0,
              "ticks": ""
             }
            },
            "type": "scattermapbox"
           }
          ],
          "scatterpolar": [
           {
            "marker": {
             "colorbar": {
              "outlinewidth": 0,
              "ticks": ""
             }
            },
            "type": "scatterpolar"
           }
          ],
          "scatterpolargl": [
           {
            "marker": {
             "colorbar": {
              "outlinewidth": 0,
              "ticks": ""
             }
            },
            "type": "scatterpolargl"
           }
          ],
          "scatterternary": [
           {
            "marker": {
             "colorbar": {
              "outlinewidth": 0,
              "ticks": ""
             }
            },
            "type": "scatterternary"
           }
          ],
          "surface": [
           {
            "colorbar": {
             "outlinewidth": 0,
             "ticks": ""
            },
            "colorscale": [
             [
              0,
              "#0d0887"
             ],
             [
              0.1111111111111111,
              "#46039f"
             ],
             [
              0.2222222222222222,
              "#7201a8"
             ],
             [
              0.3333333333333333,
              "#9c179e"
             ],
             [
              0.4444444444444444,
              "#bd3786"
             ],
             [
              0.5555555555555556,
              "#d8576b"
             ],
             [
              0.6666666666666666,
              "#ed7953"
             ],
             [
              0.7777777777777778,
              "#fb9f3a"
             ],
             [
              0.8888888888888888,
              "#fdca26"
             ],
             [
              1,
              "#f0f921"
             ]
            ],
            "type": "surface"
           }
          ],
          "table": [
           {
            "cells": {
             "fill": {
              "color": "#EBF0F8"
             },
             "line": {
              "color": "white"
             }
            },
            "header": {
             "fill": {
              "color": "#C8D4E3"
             },
             "line": {
              "color": "white"
             }
            },
            "type": "table"
           }
          ]
         },
         "layout": {
          "annotationdefaults": {
           "arrowcolor": "#2a3f5f",
           "arrowhead": 0,
           "arrowwidth": 1
          },
          "autotypenumbers": "strict",
          "coloraxis": {
           "colorbar": {
            "outlinewidth": 0,
            "ticks": ""
           }
          },
          "colorscale": {
           "diverging": [
            [
             0,
             "#8e0152"
            ],
            [
             0.1,
             "#c51b7d"
            ],
            [
             0.2,
             "#de77ae"
            ],
            [
             0.3,
             "#f1b6da"
            ],
            [
             0.4,
             "#fde0ef"
            ],
            [
             0.5,
             "#f7f7f7"
            ],
            [
             0.6,
             "#e6f5d0"
            ],
            [
             0.7,
             "#b8e186"
            ],
            [
             0.8,
             "#7fbc41"
            ],
            [
             0.9,
             "#4d9221"
            ],
            [
             1,
             "#276419"
            ]
           ],
           "sequential": [
            [
             0,
             "#0d0887"
            ],
            [
             0.1111111111111111,
             "#46039f"
            ],
            [
             0.2222222222222222,
             "#7201a8"
            ],
            [
             0.3333333333333333,
             "#9c179e"
            ],
            [
             0.4444444444444444,
             "#bd3786"
            ],
            [
             0.5555555555555556,
             "#d8576b"
            ],
            [
             0.6666666666666666,
             "#ed7953"
            ],
            [
             0.7777777777777778,
             "#fb9f3a"
            ],
            [
             0.8888888888888888,
             "#fdca26"
            ],
            [
             1,
             "#f0f921"
            ]
           ],
           "sequentialminus": [
            [
             0,
             "#0d0887"
            ],
            [
             0.1111111111111111,
             "#46039f"
            ],
            [
             0.2222222222222222,
             "#7201a8"
            ],
            [
             0.3333333333333333,
             "#9c179e"
            ],
            [
             0.4444444444444444,
             "#bd3786"
            ],
            [
             0.5555555555555556,
             "#d8576b"
            ],
            [
             0.6666666666666666,
             "#ed7953"
            ],
            [
             0.7777777777777778,
             "#fb9f3a"
            ],
            [
             0.8888888888888888,
             "#fdca26"
            ],
            [
             1,
             "#f0f921"
            ]
           ]
          },
          "colorway": [
           "#636efa",
           "#EF553B",
           "#00cc96",
           "#ab63fa",
           "#FFA15A",
           "#19d3f3",
           "#FF6692",
           "#B6E880",
           "#FF97FF",
           "#FECB52"
          ],
          "font": {
           "color": "#2a3f5f"
          },
          "geo": {
           "bgcolor": "white",
           "lakecolor": "white",
           "landcolor": "#E5ECF6",
           "showlakes": true,
           "showland": true,
           "subunitcolor": "white"
          },
          "hoverlabel": {
           "align": "left"
          },
          "hovermode": "closest",
          "mapbox": {
           "style": "light"
          },
          "paper_bgcolor": "white",
          "plot_bgcolor": "#E5ECF6",
          "polar": {
           "angularaxis": {
            "gridcolor": "white",
            "linecolor": "white",
            "ticks": ""
           },
           "bgcolor": "#E5ECF6",
           "radialaxis": {
            "gridcolor": "white",
            "linecolor": "white",
            "ticks": ""
           }
          },
          "scene": {
           "xaxis": {
            "backgroundcolor": "#E5ECF6",
            "gridcolor": "white",
            "gridwidth": 2,
            "linecolor": "white",
            "showbackground": true,
            "ticks": "",
            "zerolinecolor": "white"
           },
           "yaxis": {
            "backgroundcolor": "#E5ECF6",
            "gridcolor": "white",
            "gridwidth": 2,
            "linecolor": "white",
            "showbackground": true,
            "ticks": "",
            "zerolinecolor": "white"
           },
           "zaxis": {
            "backgroundcolor": "#E5ECF6",
            "gridcolor": "white",
            "gridwidth": 2,
            "linecolor": "white",
            "showbackground": true,
            "ticks": "",
            "zerolinecolor": "white"
           }
          },
          "shapedefaults": {
           "line": {
            "color": "#2a3f5f"
           }
          },
          "ternary": {
           "aaxis": {
            "gridcolor": "white",
            "linecolor": "white",
            "ticks": ""
           },
           "baxis": {
            "gridcolor": "white",
            "linecolor": "white",
            "ticks": ""
           },
           "bgcolor": "#E5ECF6",
           "caxis": {
            "gridcolor": "white",
            "linecolor": "white",
            "ticks": ""
           }
          },
          "title": {
           "x": 0.05
          },
          "xaxis": {
           "automargin": true,
           "gridcolor": "white",
           "linecolor": "white",
           "ticks": "",
           "title": {
            "standoff": 15
           },
           "zerolinecolor": "white",
           "zerolinewidth": 2
          },
          "yaxis": {
           "automargin": true,
           "gridcolor": "white",
           "linecolor": "white",
           "ticks": "",
           "title": {
            "standoff": 15
           },
           "zerolinecolor": "white",
           "zerolinewidth": 2
          }
         }
        },
        "xaxis": {
         "title": {
          "text": "N"
         }
        },
        "yaxis": {
         "title": {
          "text": "P(A)"
         }
        }
       }
      }
     },
     "metadata": {},
     "output_type": "display_data"
    },
    {
     "data": {
      "text/html": [
       "<div>\n",
       "<style scoped>\n",
       "    .dataframe tbody tr th:only-of-type {\n",
       "        vertical-align: middle;\n",
       "    }\n",
       "\n",
       "    .dataframe tbody tr th {\n",
       "        vertical-align: top;\n",
       "    }\n",
       "\n",
       "    .dataframe thead th {\n",
       "        text-align: right;\n",
       "    }\n",
       "</style>\n",
       "<table border=\"1\" class=\"dataframe\">\n",
       "  <thead>\n",
       "    <tr style=\"text-align: right;\">\n",
       "      <th></th>\n",
       "      <th>Метод</th>\n",
       "      <th>Вероятность</th>\n",
       "    </tr>\n",
       "  </thead>\n",
       "  <tbody>\n",
       "    <tr>\n",
       "      <th>0</th>\n",
       "      <td>Аналитический</td>\n",
       "      <td>0.066667</td>\n",
       "    </tr>\n",
       "    <tr>\n",
       "      <th>1</th>\n",
       "      <td>Симуляция</td>\n",
       "      <td>0.066499</td>\n",
       "    </tr>\n",
       "  </tbody>\n",
       "</table>\n",
       "</div>"
      ],
      "text/plain": [
       "           Метод  Вероятность\n",
       "0  Аналитический     0.066667\n",
       "1      Симуляция     0.066499"
      ]
     },
     "execution_count": 2,
     "metadata": {},
     "output_type": "execute_result"
    }
   ],
   "source": [
    "import numpy as np\n",
    "import scipy.special as sc\n",
    "import plotly.graph_objs as go\n",
    "import random\n",
    "import pandas as pd\n",
    "\n",
    "books = [\"A\", \"B\", \"C\"] + [f\"X{i}\" for i in range(1, 8)]\n",
    "\n",
    "N_values = np.array(range(10, 10001, 50))\n",
    "P_A_values = []\n",
    "\n",
    "for N in N_values:\n",
    "    N_A = 0\n",
    "\n",
    "    for _ in range(N):\n",
    "        random.shuffle(books)\n",
    "\n",
    "        for i in range(10 - 3 + 1):\n",
    "            window = books[i : i + 3]\n",
    "            if set(window) == {\"A\", \"B\", \"C\"}:\n",
    "                break\n",
    "        else:\n",
    "            continue\n",
    "\n",
    "        N_A += 1\n",
    "\n",
    "    P_A_values.append(N_A / N)\n",
    "\n",
    "theoretical = sc.factorial(8) * sc.factorial(3) / sc.factorial(10)\n",
    "\n",
    "fig = go.Figure([go.Scatter(x=N_values, y=P_A_values)])\n",
    "fig.add_shape(\n",
    "    type=\"line\",\n",
    "    x0=0,\n",
    "    y0=theoretical,\n",
    "    x1=N_values[-1],\n",
    "    y1=theoretical,\n",
    "    line=dict(color=\"red\", width=2),\n",
    ")\n",
    "\n",
    "fig.update_layout(xaxis_title=\"N\", yaxis_title=\"P(A)\")\n",
    "fig.show()\n",
    "\n",
    "df = pd.DataFrame(\n",
    "    {\n",
    "        \"Метод\": [\"Аналитический\", \"Симуляция\"],\n",
    "        \"Вероятность\": [theoretical, np.mean(P_A_values)],\n",
    "    }\n",
    ")\n",
    "\n",
    "df"
   ]
  }
 ],
 "metadata": {
  "kernelspec": {
   "display_name": "venv",
   "language": "python",
   "name": "python3"
  },
  "language_info": {
   "codemirror_mode": {
    "name": "ipython",
    "version": 3
   },
   "file_extension": ".py",
   "mimetype": "text/x-python",
   "name": "python",
   "nbconvert_exporter": "python",
   "pygments_lexer": "ipython3",
   "version": "3.11.1"
  }
 },
 "nbformat": 4,
 "nbformat_minor": 5
}
